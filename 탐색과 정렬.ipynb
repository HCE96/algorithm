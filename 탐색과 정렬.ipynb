{
 "cells": [
  {
   "cell_type": "markdown",
   "metadata": {},
   "source": [
    "# 정렬"
   ]
  },
  {
   "cell_type": "markdown",
   "metadata": {},
   "source": [
    "## 버블정렬"
   ]
  },
  {
   "cell_type": "code",
   "execution_count": 3,
   "metadata": {},
   "outputs": [],
   "source": [
    "def swap(x, i, j):\n",
    "    x[i], x[j] = x[j], x[i]\n",
    "\n",
    "def bubbleSort(x):\n",
    "    for size in reversed(range(len(x))):\n",
    "        for i in range(size):\n",
    "            if x[i] > x[i+1]:\n",
    "                swap(x, i, i+1)"
   ]
  },
  {
   "cell_type": "markdown",
   "metadata": {},
   "source": [
    "## 선택 정렬"
   ]
  },
  {
   "cell_type": "code",
   "execution_count": 4,
   "metadata": {},
   "outputs": [],
   "source": [
    "def swap(x, i, j):\n",
    "    x[i], x[j] = x[j], x[i]\n",
    "\n",
    "def selectionSort(x):\n",
    "    for size in reversed(range(len(x))):\n",
    "        max_i = 0\n",
    "        for i in range(1, 1+size):\n",
    "            if x[i] > x[max_i]:\n",
    "                max_i = i\n",
    "        swap(x, max_i, size)"
   ]
  },
  {
   "cell_type": "markdown",
   "metadata": {},
   "source": [
    "## 삽입 정렬"
   ]
  },
  {
   "cell_type": "code",
   "execution_count": 5,
   "metadata": {},
   "outputs": [],
   "source": [
    "def insertionSort(x):\n",
    "    for size in range(1, len(x)):\n",
    "        val = x[size]\n",
    "        i = size\n",
    "        while i > 0 and x[i-1] > val:\n",
    "            x[i] = x[i-1]\n",
    "            i -= 1\n",
    "        x[i] = val"
   ]
  },
  {
   "cell_type": "markdown",
   "metadata": {},
   "source": [
    "## 셸 정렬"
   ]
  },
  {
   "cell_type": "code",
   "execution_count": 6,
   "metadata": {},
   "outputs": [],
   "source": [
    "def gapInsertionSort(x, start, gap):\n",
    "    for target in range(start+gap, len(x), gap):\n",
    "        val = x[target]\n",
    "        i = target\n",
    "        while i > start:\n",
    "            if x[i-gap] > val:\n",
    "                x[i] = x[i-gap]\n",
    "            else:\n",
    "                break\n",
    "            i -= gap\n",
    "        x[i] = val\n",
    "\n",
    "def shellSort(x):\n",
    "    gap = len(x) // 2\n",
    "    while gap > 0:\n",
    "        for start in range(gap):\n",
    "            gapInsertionSort(x, start, gap)\n",
    "        gap = gap // 2"
   ]
  },
  {
   "cell_type": "markdown",
   "metadata": {},
   "source": [
    "## 병합 정렬"
   ]
  },
  {
   "cell_type": "code",
   "execution_count": 7,
   "metadata": {},
   "outputs": [],
   "source": [
    "def mergeSort(x):\n",
    "    if len(x) > 1:\n",
    "        mid = len(x)//2\n",
    "        lx, rx = x[:mid], x[mid:]\n",
    "        mergeSort(lx)\n",
    "        mergeSort(rx)\n",
    "\n",
    "        li, ri, i = 0, 0, 0\n",
    "        while li < len(lx) and ri < len(rx):\n",
    "            if lx[li] < rx[ri]:\n",
    "                x[i] = lx[li]\n",
    "                li += 1\n",
    "            else:\n",
    "                x[i] = rx[ri]\n",
    "                ri += 1\n",
    "            i += 1\n",
    "        x[i:] = lx[li:] if li != len(lx) else rx[ri:]"
   ]
  },
  {
   "cell_type": "markdown",
   "metadata": {},
   "source": [
    "## 퀵 정렬"
   ]
  },
  {
   "cell_type": "code",
   "execution_count": 8,
   "metadata": {},
   "outputs": [],
   "source": [
    "def swap(x, i, j):\n",
    "    x[i], x[j] = x[j], x[i]\n",
    "\n",
    "def pivotFirst(x, lmark, rmark):\n",
    "    pivot_val = x[lmark]\n",
    "    pivot_idx = lmark\n",
    "    while lmark <= rmark:\n",
    "        while lmark <= rmark and x[lmark] <= pivot_val:\n",
    "            lmark += 1\n",
    "        while lmark <= rmark and x[rmark] >= pivot_val:\n",
    "            rmark -= 1\n",
    "        if lmark <= rmark:\n",
    "            swap(x, lmark, rmark)\n",
    "            lmark += 1\n",
    "            rmark -= 1\n",
    "    swap(x, pivot_idx, rmark)\n",
    "    return rmark\n",
    "\n",
    "def quickSort(x, pivotMethod=pivotFirst):\n",
    "    def _qsort(x, first, last):\n",
    "        if first < last:\n",
    "            splitpoint = pivotMethod(x, first, last)\n",
    "            _qsort(x, first, splitpoint-1)\n",
    "            _qsort(x, splitpoint+1, last)\n",
    "    _qsort(x, 0, len(x)-1)"
   ]
  },
  {
   "cell_type": "markdown",
   "metadata": {},
   "source": [
    "## 이진 탐색"
   ]
  },
  {
   "cell_type": "code",
   "execution_count": 11,
   "metadata": {},
   "outputs": [],
   "source": [
    "def BinarySearch(arr, val, low, high):\n",
    "    if low > high:\n",
    "        return False\n",
    "    \n",
    "    mid = (low + high) // 2\n",
    "    if arr[mid] > val:\n",
    "        return BinarySearch(arr, val, low, mid - 1)\n",
    "    elif arr[mid] < val:\n",
    "        return BinarySearch(arr, val, mid + 1, high)\n",
    "    else:\n",
    "        return True"
   ]
  },
  {
   "cell_type": "code",
   "execution_count": null,
   "metadata": {},
   "outputs": [],
   "source": []
  }
 ],
 "metadata": {
  "kernelspec": {
   "display_name": "Python 3",
   "language": "python",
   "name": "python3"
  },
  "language_info": {
   "codemirror_mode": {
    "name": "ipython",
    "version": 3
   },
   "file_extension": ".py",
   "mimetype": "text/x-python",
   "name": "python",
   "nbconvert_exporter": "python",
   "pygments_lexer": "ipython3",
   "version": "3.7.4"
  }
 },
 "nbformat": 4,
 "nbformat_minor": 2
}
